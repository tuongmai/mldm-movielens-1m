{
 "cells": [
  {
   "cell_type": "code",
   "execution_count": 9,
   "id": "b77066de",
   "metadata": {},
   "outputs": [],
   "source": [
    "import pandas as pd\n",
    "from sklearn.model_selection import train_test_split\n",
    "import numpy as np\n",
    "from sklearn.linear_model import Ridge\n",
    "from sklearn.metrics import mean_squared_error"
   ]
  },
  {
   "cell_type": "code",
   "execution_count": 3,
   "id": "689e531c",
   "metadata": {},
   "outputs": [
    {
     "data": {
      "text/html": [
       "<div>\n",
       "<style scoped>\n",
       "    .dataframe tbody tr th:only-of-type {\n",
       "        vertical-align: middle;\n",
       "    }\n",
       "\n",
       "    .dataframe tbody tr th {\n",
       "        vertical-align: top;\n",
       "    }\n",
       "\n",
       "    .dataframe thead th {\n",
       "        text-align: right;\n",
       "    }\n",
       "</style>\n",
       "<table border=\"1\" class=\"dataframe\">\n",
       "  <thead>\n",
       "    <tr style=\"text-align: right;\">\n",
       "      <th></th>\n",
       "      <th>UserID</th>\n",
       "      <th>Gender</th>\n",
       "      <th>Age</th>\n",
       "      <th>OccupationID</th>\n",
       "      <th>Zip-code</th>\n",
       "    </tr>\n",
       "  </thead>\n",
       "  <tbody>\n",
       "    <tr>\n",
       "      <th>0</th>\n",
       "      <td>1</td>\n",
       "      <td>F</td>\n",
       "      <td>1</td>\n",
       "      <td>10</td>\n",
       "      <td>48067</td>\n",
       "    </tr>\n",
       "    <tr>\n",
       "      <th>1</th>\n",
       "      <td>2</td>\n",
       "      <td>M</td>\n",
       "      <td>56</td>\n",
       "      <td>16</td>\n",
       "      <td>70072</td>\n",
       "    </tr>\n",
       "    <tr>\n",
       "      <th>2</th>\n",
       "      <td>3</td>\n",
       "      <td>M</td>\n",
       "      <td>25</td>\n",
       "      <td>15</td>\n",
       "      <td>55117</td>\n",
       "    </tr>\n",
       "    <tr>\n",
       "      <th>3</th>\n",
       "      <td>4</td>\n",
       "      <td>M</td>\n",
       "      <td>45</td>\n",
       "      <td>7</td>\n",
       "      <td>02460</td>\n",
       "    </tr>\n",
       "    <tr>\n",
       "      <th>4</th>\n",
       "      <td>5</td>\n",
       "      <td>M</td>\n",
       "      <td>25</td>\n",
       "      <td>20</td>\n",
       "      <td>55455</td>\n",
       "    </tr>\n",
       "  </tbody>\n",
       "</table>\n",
       "</div>"
      ],
      "text/plain": [
       "   UserID Gender  Age  OccupationID Zip-code\n",
       "0       1      F    1            10    48067\n",
       "1       2      M   56            16    70072\n",
       "2       3      M   25            15    55117\n",
       "3       4      M   45             7    02460\n",
       "4       5      M   25            20    55455"
      ]
     },
     "execution_count": 3,
     "metadata": {},
     "output_type": "execute_result"
    }
   ],
   "source": [
    "#load users data\n",
    "users_title = ['UserID', 'Gender', 'Age', 'OccupationID', 'Zip-code']\n",
    "users = pd.read_table('./ml-1m/users.dat', sep='::', header=None, names=users_title, engine = 'python')\n",
    "users.head()"
   ]
  },
  {
   "cell_type": "code",
   "execution_count": 6,
   "id": "6510eaa2",
   "metadata": {},
   "outputs": [
    {
     "data": {
      "text/html": [
       "<div>\n",
       "<style scoped>\n",
       "    .dataframe tbody tr th:only-of-type {\n",
       "        vertical-align: middle;\n",
       "    }\n",
       "\n",
       "    .dataframe tbody tr th {\n",
       "        vertical-align: top;\n",
       "    }\n",
       "\n",
       "    .dataframe thead th {\n",
       "        text-align: right;\n",
       "    }\n",
       "</style>\n",
       "<table border=\"1\" class=\"dataframe\">\n",
       "  <thead>\n",
       "    <tr style=\"text-align: right;\">\n",
       "      <th></th>\n",
       "      <th>MovieID</th>\n",
       "      <th>Title</th>\n",
       "      <th>Genres</th>\n",
       "    </tr>\n",
       "  </thead>\n",
       "  <tbody>\n",
       "    <tr>\n",
       "      <th>0</th>\n",
       "      <td>1</td>\n",
       "      <td>Toy Story (1995)</td>\n",
       "      <td>Animation|Children's|Comedy</td>\n",
       "    </tr>\n",
       "    <tr>\n",
       "      <th>1</th>\n",
       "      <td>2</td>\n",
       "      <td>Jumanji (1995)</td>\n",
       "      <td>Adventure|Children's|Fantasy</td>\n",
       "    </tr>\n",
       "    <tr>\n",
       "      <th>2</th>\n",
       "      <td>3</td>\n",
       "      <td>Grumpier Old Men (1995)</td>\n",
       "      <td>Comedy|Romance</td>\n",
       "    </tr>\n",
       "    <tr>\n",
       "      <th>3</th>\n",
       "      <td>4</td>\n",
       "      <td>Waiting to Exhale (1995)</td>\n",
       "      <td>Comedy|Drama</td>\n",
       "    </tr>\n",
       "    <tr>\n",
       "      <th>4</th>\n",
       "      <td>5</td>\n",
       "      <td>Father of the Bride Part II (1995)</td>\n",
       "      <td>Comedy</td>\n",
       "    </tr>\n",
       "  </tbody>\n",
       "</table>\n",
       "</div>"
      ],
      "text/plain": [
       "   MovieID                               Title                        Genres\n",
       "0        1                    Toy Story (1995)   Animation|Children's|Comedy\n",
       "1        2                      Jumanji (1995)  Adventure|Children's|Fantasy\n",
       "2        3             Grumpier Old Men (1995)                Comedy|Romance\n",
       "3        4            Waiting to Exhale (1995)                  Comedy|Drama\n",
       "4        5  Father of the Bride Part II (1995)                        Comedy"
      ]
     },
     "execution_count": 6,
     "metadata": {},
     "output_type": "execute_result"
    }
   ],
   "source": [
    "#load movies data\n",
    "movies_title = ['MovieID', 'Title', 'Genres']\n",
    "movies = pd.read_table('./ml-1m/movies.dat', sep='::', header=None, names=movies_title, engine = 'python', encoding='ISO-8859-1')\n",
    "movies.head()"
   ]
  },
  {
   "cell_type": "code",
   "execution_count": 7,
   "id": "895bc95c",
   "metadata": {},
   "outputs": [
    {
     "data": {
      "text/html": [
       "<div>\n",
       "<style scoped>\n",
       "    .dataframe tbody tr th:only-of-type {\n",
       "        vertical-align: middle;\n",
       "    }\n",
       "\n",
       "    .dataframe tbody tr th {\n",
       "        vertical-align: top;\n",
       "    }\n",
       "\n",
       "    .dataframe thead th {\n",
       "        text-align: right;\n",
       "    }\n",
       "</style>\n",
       "<table border=\"1\" class=\"dataframe\">\n",
       "  <thead>\n",
       "    <tr style=\"text-align: right;\">\n",
       "      <th></th>\n",
       "      <th>UserID</th>\n",
       "      <th>MovieID</th>\n",
       "      <th>Rating</th>\n",
       "      <th>timestamps</th>\n",
       "    </tr>\n",
       "  </thead>\n",
       "  <tbody>\n",
       "    <tr>\n",
       "      <th>0</th>\n",
       "      <td>1</td>\n",
       "      <td>1193</td>\n",
       "      <td>5</td>\n",
       "      <td>978300760</td>\n",
       "    </tr>\n",
       "    <tr>\n",
       "      <th>1</th>\n",
       "      <td>1</td>\n",
       "      <td>661</td>\n",
       "      <td>3</td>\n",
       "      <td>978302109</td>\n",
       "    </tr>\n",
       "    <tr>\n",
       "      <th>2</th>\n",
       "      <td>1</td>\n",
       "      <td>914</td>\n",
       "      <td>3</td>\n",
       "      <td>978301968</td>\n",
       "    </tr>\n",
       "    <tr>\n",
       "      <th>3</th>\n",
       "      <td>1</td>\n",
       "      <td>3408</td>\n",
       "      <td>4</td>\n",
       "      <td>978300275</td>\n",
       "    </tr>\n",
       "    <tr>\n",
       "      <th>4</th>\n",
       "      <td>1</td>\n",
       "      <td>2355</td>\n",
       "      <td>5</td>\n",
       "      <td>978824291</td>\n",
       "    </tr>\n",
       "  </tbody>\n",
       "</table>\n",
       "</div>"
      ],
      "text/plain": [
       "   UserID  MovieID  Rating  timestamps\n",
       "0       1     1193       5   978300760\n",
       "1       1      661       3   978302109\n",
       "2       1      914       3   978301968\n",
       "3       1     3408       4   978300275\n",
       "4       1     2355       5   978824291"
      ]
     },
     "execution_count": 7,
     "metadata": {},
     "output_type": "execute_result"
    }
   ],
   "source": [
    "#load ratings data\n",
    "ratings_title = ['UserID','MovieID', 'Rating', 'timestamps']\n",
    "ratings = pd.read_table('./ml-1m/ratings.dat', sep='::', header=None, names=ratings_title, engine = 'python')\n",
    "ratings.head()"
   ]
  },
  {
   "cell_type": "code",
   "execution_count": 10,
   "id": "169d81b7",
   "metadata": {},
   "outputs": [
    {
     "name": "stdout",
     "output_type": "stream",
     "text": [
      "        UserID  MovieID  Rating  timestamps\n",
      "895536    5412     2683       2   960243649\n",
      "899739    5440      904       5   959995181\n",
      "55687      368     3717       4   976311423\n",
      "63727      425     1721       4   976283587\n",
      "822011    4942     3697       1   962642480\n",
      "...        ...      ...     ...         ...\n",
      "212290    1293     3421       4   974788653\n",
      "760423    4517     2747       3   974438652\n",
      "298611    1772     2858       5   974856106\n",
      "219489    1331     1178       5   974953051\n",
      "220256    1335      750       5   974776309\n",
      "\n",
      "[100021 rows x 4 columns]\n"
     ]
    }
   ],
   "source": [
    "#split train-test set\n",
    "train_ratings, validation_ratings = train_test_split(\n",
    "    ratings, test_size=0.1, random_state=42\n",
    ")"
   ]
  },
  {
   "cell_type": "code",
   "execution_count": 11,
   "id": "7e5b7974",
   "metadata": {},
   "outputs": [
    {
     "name": "stdout",
     "output_type": "stream",
     "text": [
      "There are 5970 users in validation set.\n",
      "Total number of users: 6040\n"
     ]
    }
   ],
   "source": [
    "users_in_validation = validation_ratings[\"UserID\"].unique()\n",
    "all_users = users[\"UserID\"].unique()\n",
    "\n",
    "print(f\"There are {len(users_in_validation)} users in validation set.\")\n",
    "print(f\"Total number of users: {len(all_users)}\")"
   ]
  },
  {
   "cell_type": "code",
   "execution_count": 13,
   "id": "6c025d26",
   "metadata": {},
   "outputs": [
    {
     "name": "stdout",
     "output_type": "stream",
     "text": [
      "[[0. 0. 1. ... 0. 0. 0.]\n",
      " [0. 1. 0. ... 0. 0. 0.]\n",
      " [0. 0. 0. ... 0. 0. 0.]\n",
      " ...\n",
      " [0. 0. 0. ... 0. 0. 0.]\n",
      " [0. 0. 0. ... 0. 0. 0.]\n",
      " [0. 0. 0. ... 1. 0. 0.]]\n"
     ]
    }
   ],
   "source": [
    "#build characteristics of the film\n",
    "movie_index_by_id = {id: i for i, id in enumerate(movies[\"MovieID\"])}\n",
    "genres = [\n",
    "    \"Action\",\n",
    "    \"Adventure\",\n",
    "    \"Animation\",\n",
    "    \"Children's\",\n",
    "    \"Comedy\",\n",
    "    \"Crime\",\n",
    "    \"Documentary\",\n",
    "    \"Drama\",\n",
    "    \"Fantasy\",\n",
    "    \"Film-Noir\",\n",
    "    \"Horror\",\n",
    "    \"Musical\",\n",
    "    \"Mystery\",\n",
    "    \"Romance\",\n",
    "    \"Sci-Fi\",\n",
    "    \"Thriller\",\n",
    "    \"War\",\n",
    "    \"Western\",\n",
    "]\n",
    "genre_index_by_name = {name:i for i, name in enumerate(genres)}\n",
    "\n",
    "# build binary array for movie genres\n",
    "movie_features = np.zeros((len(movies), len(genres)))\n",
    "for i, movie_genres in enumerate(movies[\"Genres\"]):\n",
    "    for genre in movie_genres.split(\"|\"):        \n",
    "        genre_index = genre_index_by_name[genre]\n",
    "        movie_features[i, genre_index] = 1\n",
    "print(movie_features)"
   ]
  },
  {
   "cell_type": "code",
   "execution_count": 15,
   "id": "dc4ecbb4",
   "metadata": {},
   "outputs": [
    {
     "name": "stdout",
     "output_type": "stream",
     "text": [
      "Ridge(alpha=0.1)\n"
     ]
    }
   ],
   "source": [
    "#train model for each users\n",
    "def train_user_model(user_id):\n",
    "    user_ratings = train_ratings[train_ratings[\"UserID\"] == user_id]\n",
    "    movie_indexes = [\n",
    "        movie_index_by_id[movie_id] for movie_id in user_ratings[\"MovieID\"]\n",
    "    ]\n",
    "    train_data = movie_features[movie_indexes]\n",
    "    train_label = user_ratings[\"Rating\"]\n",
    "    model = Ridge(alpha=0.1)\n",
    "    model.fit(train_data, train_label)\n",
    "    return model\n",
    "\n",
    "\n",
    "# build model for each user\n",
    "user_model_dict = {}\n",
    "for user_id in users[\"UserID\"].unique():\n",
    "    user_model_dict[user_id] = train_user_model(user_id)\n",
    "print(user_model_dict[1])"
   ]
  },
  {
   "cell_type": "code",
   "execution_count": 16,
   "id": "031828db",
   "metadata": {},
   "outputs": [],
   "source": [
    "#predict user preferences for a movie, rating is between 1 and 5\n",
    "def predict(user_id, movie_id):\n",
    "    movie_feature = movie_features[movie_index_by_id[movie_id]].reshape((1, -1))\n",
    "    pred = user_model_dict[user_id].predict(movie_feature)\n",
    "    return min(max(pred, 1), 5)"
   ]
  },
  {
   "cell_type": "code",
   "execution_count": 17,
   "id": "704af4d4",
   "metadata": {},
   "outputs": [
    {
     "name": "stdout",
     "output_type": "stream",
     "text": [
      "RMSE train: 0.9298923151317949\n",
      "RMSE validation: 1.0423634495127465\n"
     ]
    }
   ],
   "source": [
    "#evaluate model by RMSE\n",
    "def eval_rmse(ratings: pd.DataFrame) -> float:\n",
    "    predictions = np.zeros(len(ratings))\n",
    "    for index, row in enumerate(ratings.itertuples(index=False)):\n",
    "        predictions[index] = predict(row[0], row[1])\n",
    "    rmse = mean_squared_error(ratings[\"Rating\"], predictions, squared=False)\n",
    "    return rmse\n",
    "    \n",
    "print(f\"RMSE train: {eval_rmse(train_ratings)}\")\n",
    "print(f\"RMSE validation: {eval_rmse(validation_ratings)}\")"
   ]
  },
  {
   "cell_type": "code",
   "execution_count": 18,
   "id": "43f5a558",
   "metadata": {},
   "outputs": [
    {
     "name": "stdout",
     "output_type": "stream",
     "text": [
      "Action         : -0.308\n",
      "Adventure      : 0.710\n",
      "Animation      : 0.198\n",
      "Children's     : -0.199\n",
      "Comedy         : -0.712\n",
      "Crime          : 0.332\n",
      "Documentary    : 0.000\n",
      "Drama          : 0.225\n",
      "Fantasy        : -0.396\n",
      "Film-Noir      : 0.000\n",
      "Horror         : 0.050\n",
      "Musical        : 0.198\n",
      "Mystery        : 0.000\n",
      "Romance        : 0.771\n",
      "Sci-Fi         : -0.373\n",
      "Thriller       : -0.838\n",
      "War            : -1.439\n",
      "Western        : 0.000\n"
     ]
    }
   ],
   "source": [
    "#coefficients of an user\n",
    "user_id = 160\n",
    "for genre, coef in zip(genres, user_model_dict[user_id].coef_):\n",
    "    print(\"{:15s}: {:.3f}\".format(genre, coef))"
   ]
  },
  {
   "cell_type": "code",
   "execution_count": null,
   "id": "3edb94e1",
   "metadata": {},
   "outputs": [],
   "source": []
  }
 ],
 "metadata": {
  "kernelspec": {
   "display_name": "Python 3 (ipykernel)",
   "language": "python",
   "name": "python3"
  },
  "language_info": {
   "codemirror_mode": {
    "name": "ipython",
    "version": 3
   },
   "file_extension": ".py",
   "mimetype": "text/x-python",
   "name": "python",
   "nbconvert_exporter": "python",
   "pygments_lexer": "ipython3",
   "version": "3.8.10"
  }
 },
 "nbformat": 4,
 "nbformat_minor": 5
}
