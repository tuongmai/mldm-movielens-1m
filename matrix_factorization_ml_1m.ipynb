{
 "cells": [
  {
   "cell_type": "code",
   "execution_count": 3,
   "id": "6283039e",
   "metadata": {},
   "outputs": [],
   "source": [
    "import numpy as np\n",
    "import pandas as pd\n",
    "\n",
    "import pytorch_lightning as pl\n",
    "from sklearn.model_selection import train_test_split\n",
    "import torch\n",
    "from torch import nn\n",
    "import torch.multiprocessing\n",
    "import torch.nn.functional as F\n",
    "from torch.utils.data import DataLoader, Dataset"
   ]
  },
  {
   "cell_type": "code",
   "execution_count": 4,
   "id": "899b1cdb",
   "metadata": {},
   "outputs": [],
   "source": [
    "GLOBAL_SEED = 42  # number of life\n",
    "torch.manual_seed(GLOBAL_SEED)\n",
    "np.random.seed(GLOBAL_SEED)\n",
    "torch.multiprocessing.set_sharing_strategy('file_system')"
   ]
  },
  {
   "cell_type": "code",
   "execution_count": 5,
   "id": "3ae0929a",
   "metadata": {},
   "outputs": [
    {
     "data": {
      "text/html": [
       "<div>\n",
       "<style scoped>\n",
       "    .dataframe tbody tr th:only-of-type {\n",
       "        vertical-align: middle;\n",
       "    }\n",
       "\n",
       "    .dataframe tbody tr th {\n",
       "        vertical-align: top;\n",
       "    }\n",
       "\n",
       "    .dataframe thead th {\n",
       "        text-align: right;\n",
       "    }\n",
       "</style>\n",
       "<table border=\"1\" class=\"dataframe\">\n",
       "  <thead>\n",
       "    <tr style=\"text-align: right;\">\n",
       "      <th></th>\n",
       "      <th>UserID</th>\n",
       "      <th>Gender</th>\n",
       "      <th>Age</th>\n",
       "      <th>OccupationID</th>\n",
       "      <th>Zip-code</th>\n",
       "    </tr>\n",
       "  </thead>\n",
       "  <tbody>\n",
       "    <tr>\n",
       "      <th>0</th>\n",
       "      <td>1</td>\n",
       "      <td>F</td>\n",
       "      <td>1</td>\n",
       "      <td>10</td>\n",
       "      <td>48067</td>\n",
       "    </tr>\n",
       "    <tr>\n",
       "      <th>1</th>\n",
       "      <td>2</td>\n",
       "      <td>M</td>\n",
       "      <td>56</td>\n",
       "      <td>16</td>\n",
       "      <td>70072</td>\n",
       "    </tr>\n",
       "    <tr>\n",
       "      <th>2</th>\n",
       "      <td>3</td>\n",
       "      <td>M</td>\n",
       "      <td>25</td>\n",
       "      <td>15</td>\n",
       "      <td>55117</td>\n",
       "    </tr>\n",
       "    <tr>\n",
       "      <th>3</th>\n",
       "      <td>4</td>\n",
       "      <td>M</td>\n",
       "      <td>45</td>\n",
       "      <td>7</td>\n",
       "      <td>02460</td>\n",
       "    </tr>\n",
       "    <tr>\n",
       "      <th>4</th>\n",
       "      <td>5</td>\n",
       "      <td>M</td>\n",
       "      <td>25</td>\n",
       "      <td>20</td>\n",
       "      <td>55455</td>\n",
       "    </tr>\n",
       "  </tbody>\n",
       "</table>\n",
       "</div>"
      ],
      "text/plain": [
       "   UserID Gender  Age  OccupationID Zip-code\n",
       "0       1      F    1            10    48067\n",
       "1       2      M   56            16    70072\n",
       "2       3      M   25            15    55117\n",
       "3       4      M   45             7    02460\n",
       "4       5      M   25            20    55455"
      ]
     },
     "execution_count": 5,
     "metadata": {},
     "output_type": "execute_result"
    }
   ],
   "source": [
    "#load users data\n",
    "users_title = ['UserID', 'Gender', 'Age', 'OccupationID', 'Zip-code']\n",
    "users = pd.read_table('./ml-1m/users.dat', sep='::', header=None, names=users_title, engine = 'python')\n",
    "users.head()"
   ]
  },
  {
   "cell_type": "code",
   "execution_count": 6,
   "id": "bdd6f644",
   "metadata": {},
   "outputs": [
    {
     "data": {
      "text/html": [
       "<div>\n",
       "<style scoped>\n",
       "    .dataframe tbody tr th:only-of-type {\n",
       "        vertical-align: middle;\n",
       "    }\n",
       "\n",
       "    .dataframe tbody tr th {\n",
       "        vertical-align: top;\n",
       "    }\n",
       "\n",
       "    .dataframe thead th {\n",
       "        text-align: right;\n",
       "    }\n",
       "</style>\n",
       "<table border=\"1\" class=\"dataframe\">\n",
       "  <thead>\n",
       "    <tr style=\"text-align: right;\">\n",
       "      <th></th>\n",
       "      <th>MovieID</th>\n",
       "      <th>Title</th>\n",
       "      <th>Genres</th>\n",
       "    </tr>\n",
       "  </thead>\n",
       "  <tbody>\n",
       "    <tr>\n",
       "      <th>0</th>\n",
       "      <td>1</td>\n",
       "      <td>Toy Story (1995)</td>\n",
       "      <td>Animation|Children's|Comedy</td>\n",
       "    </tr>\n",
       "    <tr>\n",
       "      <th>1</th>\n",
       "      <td>2</td>\n",
       "      <td>Jumanji (1995)</td>\n",
       "      <td>Adventure|Children's|Fantasy</td>\n",
       "    </tr>\n",
       "    <tr>\n",
       "      <th>2</th>\n",
       "      <td>3</td>\n",
       "      <td>Grumpier Old Men (1995)</td>\n",
       "      <td>Comedy|Romance</td>\n",
       "    </tr>\n",
       "    <tr>\n",
       "      <th>3</th>\n",
       "      <td>4</td>\n",
       "      <td>Waiting to Exhale (1995)</td>\n",
       "      <td>Comedy|Drama</td>\n",
       "    </tr>\n",
       "    <tr>\n",
       "      <th>4</th>\n",
       "      <td>5</td>\n",
       "      <td>Father of the Bride Part II (1995)</td>\n",
       "      <td>Comedy</td>\n",
       "    </tr>\n",
       "  </tbody>\n",
       "</table>\n",
       "</div>"
      ],
      "text/plain": [
       "   MovieID                               Title                        Genres\n",
       "0        1                    Toy Story (1995)   Animation|Children's|Comedy\n",
       "1        2                      Jumanji (1995)  Adventure|Children's|Fantasy\n",
       "2        3             Grumpier Old Men (1995)                Comedy|Romance\n",
       "3        4            Waiting to Exhale (1995)                  Comedy|Drama\n",
       "4        5  Father of the Bride Part II (1995)                        Comedy"
      ]
     },
     "execution_count": 6,
     "metadata": {},
     "output_type": "execute_result"
    }
   ],
   "source": [
    "#load movies data\n",
    "movies_title = ['MovieID', 'Title', 'Genres']\n",
    "movies = pd.read_table('./ml-1m/movies.dat', sep='::', header=None, names=movies_title, engine = 'python', encoding='ISO-8859-1')\n",
    "movies.head()"
   ]
  },
  {
   "cell_type": "code",
   "execution_count": 7,
   "id": "ec8eb993",
   "metadata": {},
   "outputs": [
    {
     "data": {
      "text/html": [
       "<div>\n",
       "<style scoped>\n",
       "    .dataframe tbody tr th:only-of-type {\n",
       "        vertical-align: middle;\n",
       "    }\n",
       "\n",
       "    .dataframe tbody tr th {\n",
       "        vertical-align: top;\n",
       "    }\n",
       "\n",
       "    .dataframe thead th {\n",
       "        text-align: right;\n",
       "    }\n",
       "</style>\n",
       "<table border=\"1\" class=\"dataframe\">\n",
       "  <thead>\n",
       "    <tr style=\"text-align: right;\">\n",
       "      <th></th>\n",
       "      <th>UserID</th>\n",
       "      <th>MovieID</th>\n",
       "      <th>Rating</th>\n",
       "      <th>timestamps</th>\n",
       "    </tr>\n",
       "  </thead>\n",
       "  <tbody>\n",
       "    <tr>\n",
       "      <th>0</th>\n",
       "      <td>1</td>\n",
       "      <td>1193</td>\n",
       "      <td>2</td>\n",
       "      <td>978300760</td>\n",
       "    </tr>\n",
       "    <tr>\n",
       "      <th>1</th>\n",
       "      <td>1</td>\n",
       "      <td>661</td>\n",
       "      <td>0</td>\n",
       "      <td>978302109</td>\n",
       "    </tr>\n",
       "    <tr>\n",
       "      <th>2</th>\n",
       "      <td>1</td>\n",
       "      <td>914</td>\n",
       "      <td>0</td>\n",
       "      <td>978301968</td>\n",
       "    </tr>\n",
       "    <tr>\n",
       "      <th>3</th>\n",
       "      <td>1</td>\n",
       "      <td>3408</td>\n",
       "      <td>1</td>\n",
       "      <td>978300275</td>\n",
       "    </tr>\n",
       "    <tr>\n",
       "      <th>4</th>\n",
       "      <td>1</td>\n",
       "      <td>2355</td>\n",
       "      <td>2</td>\n",
       "      <td>978824291</td>\n",
       "    </tr>\n",
       "  </tbody>\n",
       "</table>\n",
       "</div>"
      ],
      "text/plain": [
       "   UserID  MovieID  Rating  timestamps\n",
       "0       1     1193       2   978300760\n",
       "1       1      661       0   978302109\n",
       "2       1      914       0   978301968\n",
       "3       1     3408       1   978300275\n",
       "4       1     2355       2   978824291"
      ]
     },
     "execution_count": 7,
     "metadata": {},
     "output_type": "execute_result"
    }
   ],
   "source": [
    "#load ratings data\n",
    "ratings_title = ['UserID','MovieID', 'Rating', 'timestamps']\n",
    "ratings = pd.read_table('./ml-1m/ratings.dat', sep='::', header=None, names=ratings_title, engine = 'python')\n",
    "ratings[\"Rating\"] = ratings[\"Rating\"] - 3  # rating range (-2, 2)\n",
    "ratings.head()"
   ]
  },
  {
   "cell_type": "code",
   "execution_count": 8,
   "id": "c03c6cfa",
   "metadata": {},
   "outputs": [
    {
     "name": "stdout",
     "output_type": "stream",
     "text": [
      "There are 5970 users in validation set.\n",
      "Total number of users: 6040\n"
     ]
    }
   ],
   "source": [
    "#split train-test set\n",
    "train_ratings, validation_ratings = train_test_split(\n",
    "    ratings, test_size=0.1, random_state=42\n",
    ")\n",
    "users_in_validation = validation_ratings[\"UserID\"].unique()\n",
    "all_users = users[\"UserID\"].unique()\n",
    "\n",
    "print(f\"There are {len(users_in_validation)} users in validation set.\")\n",
    "print(f\"Total number of users: {len(all_users)}\")"
   ]
  },
  {
   "cell_type": "code",
   "execution_count": 10,
   "id": "a712de75",
   "metadata": {},
   "outputs": [],
   "source": [
    "# map movie id and user id to indexes.\n",
    "movie_index_by_id = {id: idx for idx, id in enumerate(movies[\"MovieID\"])}\n",
    "user_index_by_id = {id: idx for idx, id in enumerate(users[\"UserID\"])}\n",
    "\n",
    "\n",
    "class MLDataset(Dataset):\n",
    "    def __init__(self, ratings: pd.DataFrame):\n",
    "        self.ratings = ratings\n",
    "\n",
    "    def __len__(self):\n",
    "        return len(self.ratings)\n",
    "\n",
    "    def __getitem__(self, index):\n",
    "        user_id = self.ratings[\"UserID\"].iloc[index]\n",
    "        movie_id = self.ratings[\"MovieID\"].iloc[index]\n",
    "        rating = self.ratings[\"Rating\"].iloc[index]\n",
    "        user_index = user_index_by_id[user_id]\n",
    "        movie_index = movie_index_by_id[movie_id]\n",
    "        return user_index, movie_index, rating\n",
    "\n",
    "\n",
    "training_data = MLDataset(train_ratings)\n",
    "validation_data = MLDataset(validation_ratings)\n",
    "batch_size = 1024\n",
    "train_dataloader = DataLoader(\n",
    "    training_data, batch_size=batch_size, shuffle=True, num_workers=8\n",
    ")\n",
    "validation_dataloader = DataLoader(\n",
    "    validation_data, batch_size=batch_size, shuffle=False, num_workers=8\n",
    ")"
   ]
  },
  {
   "cell_type": "code",
   "execution_count": 12,
   "id": "58b0bf83",
   "metadata": {},
   "outputs": [],
   "source": [
    "LR = 1\n",
    "WEIGHT_DECAY = 5e-5\n",
    "\n",
    "\n",
    "class MatrixFactorization(pl.LightningModule):\n",
    "    \"\"\"Pytorch lighting class for Matrix Factorization training.\n",
    "\n",
    "    Attributes:\n",
    "        n_users: number of users.\n",
    "        n_items: number of items.\n",
    "        n_factors: number of latent factors (or embedding size)\n",
    "    \"\"\"\n",
    "\n",
    "    def __init__(self, n_users: int, n_items: int, n_factors: int = 40):\n",
    "        super().__init__()\n",
    "        self.n_users = n_users\n",
    "        self.n_items = n_items\n",
    "        self.n_factors = n_factors\n",
    "        self.user_biases = nn.Embedding(n_users, 1)\n",
    "        self.item_biases = nn.Embedding(n_items, 1)\n",
    "        self.bias = nn.Parameter(data=torch.rand(1))\n",
    "        self.user_embeddings = nn.Embedding(n_users, n_factors)\n",
    "        self.item_embeddings = nn.Embedding(n_items, n_factors)\n",
    "\n",
    "    def forward(self, users, items):\n",
    "        \"\"\"\n",
    "        Forward pass through the model. For a single user and item, this\n",
    "        looks like:\n",
    "        bias + user_bias + item_bias + user_embeddings.dot(item_embeddings)\n",
    "\n",
    "        Arguments:\n",
    "            users: Array of user indices\n",
    "            items : Array of item indices\n",
    "        Returns:\n",
    "            preds: Predicted ratings.\n",
    "        \"\"\"\n",
    "        # select users and items from the batch\n",
    "        batch_user_embs = self.user_embeddings(users)\n",
    "        batch_item_embs = self.item_embeddings(items)\n",
    "\n",
    "        preds = torch.reshape(\n",
    "            torch.diag(\n",
    "                torch.matmul(batch_user_embs, torch.transpose(batch_item_embs, 0, 1))\n",
    "            ),\n",
    "            (-1, 1),\n",
    "        )\n",
    "        # add bias\n",
    "        preds += self.user_biases(users) + self.item_biases(items) + self.bias\n",
    "\n",
    "        return torch.clip(preds.squeeze(), min=-2, max=2)\n",
    "\n",
    "    def training_step(self, batch, batch_idx):\n",
    "        users, items, rating = batch\n",
    "        rating = rating.to(torch.float32)\n",
    "        output = self.forward(users, items)\n",
    "        loss = F.mse_loss(rating, output)\n",
    "        self.log(\"batch_loss\", loss)\n",
    "        return {\"loss\": loss}  # for computing avg_loss in training_epoch_end\n",
    "\n",
    "    def configure_optimizers(self):\n",
    "        optimizer = torch.optim.SGD(self.parameters(), lr=LR, weight_decay=WEIGHT_DECAY)\n",
    "        return optimizer"
   ]
  },
  {
   "cell_type": "code",
   "execution_count": 21,
   "id": "eb746cb2",
   "metadata": {},
   "outputs": [
    {
     "name": "stderr",
     "output_type": "stream",
     "text": [
      "GPU available: False, used: False\n",
      "TPU available: False, using: 0 TPU cores\n",
      "IPU available: False, using: 0 IPUs\n",
      "HPU available: False, using: 0 HPUs\n",
      "\n",
      "  | Name            | Type      | Params\n",
      "----------------------------------------------\n",
      "0 | user_biases     | Embedding | 6.0 K \n",
      "1 | item_biases     | Embedding | 3.9 K \n",
      "2 | user_embeddings | Embedding | 241 K \n",
      "3 | item_embeddings | Embedding | 155 K \n",
      "  | other params    | n/a       | 1     \n",
      "----------------------------------------------\n",
      "406 K     Trainable params\n",
      "0         Non-trainable params\n",
      "406 K     Total params\n",
      "1.627     Total estimated model params size (MB)\n"
     ]
    },
    {
     "data": {
      "application/vnd.jupyter.widget-view+json": {
       "model_id": "72547e0409e4496e9f6e30d6bb5c397b",
       "version_major": 2,
       "version_minor": 0
      },
      "text/plain": [
       "Training: |                                                                                       | 0/? [00:00…"
      ]
     },
     "metadata": {},
     "output_type": "display_data"
    },
    {
     "name": "stderr",
     "output_type": "stream",
     "text": [
      "`Trainer.fit` stopped: `max_epochs=100` reached.\n"
     ]
    }
   ],
   "source": [
    "# for tensorboard\n",
    "from pytorch_lightning.loggers import TensorBoardLogger\n",
    "logger = TensorBoardLogger(\"mf_tb_logs\", name=f\"lr{LR}_wd{WEIGHT_DECAY}\")\n",
    "\n",
    "n_users = len(user_index_by_id)\n",
    "n_movies = len(movie_index_by_id)\n",
    "n_factors = 40\n",
    "model = MatrixFactorization(n_users=n_users, n_items=n_movies, n_factors=n_factors)\n",
    "trainer = pl.Trainer(accelerator='cpu', max_epochs=100, logger=logger)\n",
    "trainer.fit(model, train_dataloader, validation_dataloader)"
   ]
  },
  {
   "cell_type": "code",
   "execution_count": 22,
   "id": "5d74befe",
   "metadata": {},
   "outputs": [
    {
     "name": "stdout",
     "output_type": "stream",
     "text": [
      "Train RMSE: 0.795\n",
      "Validation RMSE: 0.877\n"
     ]
    }
   ],
   "source": [
    "def eval_model(model, train_dataloader):\n",
    "    loss = 0\n",
    "    for users, items, rating in train_dataloader:\n",
    "        pred = model(users, items)\n",
    "        loss += F.mse_loss(pred, rating)\n",
    "    RMSE = (loss / len(train_dataloader))**.5\n",
    "    return RMSE\n",
    "    \n",
    "print(\"Train RMSE: {:.3f}\".format(eval_model(model, train_dataloader)))\n",
    "print(\"Validation RMSE: {:.3f}\".format(eval_model(model, validation_dataloader)))"
   ]
  },
  {
   "cell_type": "code",
   "execution_count": null,
   "id": "f262d79f",
   "metadata": {},
   "outputs": [],
   "source": []
  }
 ],
 "metadata": {
  "kernelspec": {
   "display_name": "Python 3 (ipykernel)",
   "language": "python",
   "name": "python3"
  },
  "language_info": {
   "codemirror_mode": {
    "name": "ipython",
    "version": 3
   },
   "file_extension": ".py",
   "mimetype": "text/x-python",
   "name": "python",
   "nbconvert_exporter": "python",
   "pygments_lexer": "ipython3",
   "version": "3.8.10"
  }
 },
 "nbformat": 4,
 "nbformat_minor": 5
}
