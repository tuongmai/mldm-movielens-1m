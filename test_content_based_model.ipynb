{
 "cells": [
  {
   "cell_type": "code",
   "execution_count": 14,
   "id": "435a2f9d",
   "metadata": {},
   "outputs": [],
   "source": [
    "from joblib import load\n",
    "user_model_dict = load('./model/movie-recommendation/content-based.joblib')"
   ]
  },
  {
   "cell_type": "code",
   "execution_count": 15,
   "id": "4e327386",
   "metadata": {},
   "outputs": [],
   "source": [
    "import numpy as np\n",
    "genres = [\n",
    "    \"Action\",\n",
    "    \"Adventure\",\n",
    "    \"Animation\",\n",
    "    \"Children's\",\n",
    "    \"Comedy\",\n",
    "    \"Crime\",\n",
    "    \"Documentary\",\n",
    "    \"Drama\",\n",
    "    \"Fantasy\",\n",
    "    \"Film-Noir\",\n",
    "    \"Horror\",\n",
    "    \"Musical\",\n",
    "    \"Mystery\",\n",
    "    \"Romance\",\n",
    "    \"Sci-Fi\",\n",
    "    \"Thriller\",\n",
    "    \"War\",\n",
    "    \"Western\",\n",
    "]\n",
    "genre_index_by_name = {name:i for i, name in enumerate(genres)}"
   ]
  },
  {
   "cell_type": "code",
   "execution_count": 16,
   "id": "19da2a04",
   "metadata": {},
   "outputs": [
    {
     "name": "stdout",
     "output_type": "stream",
     "text": [
      "Action         : -0.308\n",
      "Adventure      : 0.710\n",
      "Animation      : 0.198\n",
      "Children's     : -0.199\n",
      "Comedy         : -0.712\n",
      "Crime          : 0.332\n",
      "Documentary    : 0.000\n",
      "Drama          : 0.225\n",
      "Fantasy        : -0.396\n",
      "Film-Noir      : 0.000\n",
      "Horror         : 0.050\n",
      "Musical        : 0.198\n",
      "Mystery        : 0.000\n",
      "Romance        : 0.771\n",
      "Sci-Fi         : -0.373\n",
      "Thriller       : -0.838\n",
      "War            : -1.439\n",
      "Western        : 0.000\n"
     ]
    },
    {
     "data": {
      "text/plain": [
       "3.7828911474465783"
      ]
     },
     "execution_count": 16,
     "metadata": {},
     "output_type": "execute_result"
    }
   ],
   "source": [
    "#coefficients of an user\n",
    "user_id = 160\n",
    "for genre, coef in zip(genres, user_model_dict[user_id].coef_):\n",
    "    print(\"{:15s}: {:.3f}\".format(genre, coef))\n",
    "user_model_dict[user_id].intercept_"
   ]
  },
  {
   "cell_type": "code",
   "execution_count": 39,
   "id": "44dfa15f",
   "metadata": {},
   "outputs": [
    {
     "name": "stdout",
     "output_type": "stream",
     "text": [
      "{'Title': 'Oppenheimer', 'Rating': 4.007455016070068}\n",
      "{'Title': 'Guardians of the Galaxy', 'Rating': 5.461931749113692}\n"
     ]
    }
   ],
   "source": [
    "movies = [\n",
    "    {'MovieID': 10000, 'Title': 'Oppenheimer', 'Genres': 'Biographical|Psychological|Drama'},\n",
    "    {'MovieID': 10001, 'Title': 'Guardians of the Galaxy', 'Genres': 'Adventure|Romance|Musical'}\n",
    "]\n",
    "def predict(user_id, movies):\n",
    "    movie_features = np.zeros((len(movies), len(genres)))\n",
    "    for i, movie in enumerate(movies):\n",
    "        for genre in movie['Genres'].split(\"|\"):\n",
    "            if genre in genres:\n",
    "                genre_index = genre_index_by_name[genre]\n",
    "                movie_features[i, genre_index] = 1\n",
    "    pred = []\n",
    "    for i, movie_feature in enumerate(movie_features):\n",
    "        pred.append({\n",
    "            'Title': movies[i]['Title'],\n",
    "            'Rating': user_model_dict[user_id].predict(movie_feature.reshape((1, -1)))[0]\n",
    "        })\n",
    "    for p in pred:\n",
    "        print(p)\n",
    "predict(user_id, movies)"
   ]
  },
  {
   "cell_type": "code",
   "execution_count": null,
   "id": "a48b6ff4",
   "metadata": {},
   "outputs": [],
   "source": []
  }
 ],
 "metadata": {
  "kernelspec": {
   "display_name": "Python 3 (ipykernel)",
   "language": "python",
   "name": "python3"
  },
  "language_info": {
   "codemirror_mode": {
    "name": "ipython",
    "version": 3
   },
   "file_extension": ".py",
   "mimetype": "text/x-python",
   "name": "python",
   "nbconvert_exporter": "python",
   "pygments_lexer": "ipython3",
   "version": "3.8.10"
  }
 },
 "nbformat": 4,
 "nbformat_minor": 5
}
